{
  "nbformat": 4,
  "nbformat_minor": 0,
  "metadata": {
    "colab": {
      "name": "Quiz.ipynb",
      "provenance": [],
      "authorship_tag": "ABX9TyMOsV5VX2LTtiCg2xeDR86G",
      "include_colab_link": true
    },
    "kernelspec": {
      "name": "python3",
      "display_name": "Python 3"
    }
  },
  "cells": [
    {
      "cell_type": "markdown",
      "metadata": {
        "id": "view-in-github",
        "colab_type": "text"
      },
      "source": [
        "<a href=\"https://colab.research.google.com/github/odetolataiwo/Hamoye/blob/master/Quiz.ipynb\" target=\"_parent\"><img src=\"https://colab.research.google.com/assets/colab-badge.svg\" alt=\"Open In Colab\"/></a>"
      ]
    },
    {
      "cell_type": "markdown",
      "metadata": {
        "id": "PqIsBFiUqK0g",
        "colab_type": "text"
      },
      "source": [
        "# QUIZ "
      ]
    },
    {
      "cell_type": "code",
      "metadata": {
        "id": "CwYveQYnqIng",
        "colab_type": "code",
        "colab": {}
      },
      "source": [
        "# import\n",
        "import pandas as pd\n",
        "import numpy as np"
      ],
      "execution_count": 1,
      "outputs": []
    },
    {
      "cell_type": "code",
      "metadata": {
        "id": "cvdkc2DurF8W",
        "colab_type": "code",
        "colab": {}
      },
      "source": [
        "url='https://raw.githubusercontent.com/WalePhenomenon/climate_change/master/fuel_ferc1.csv'\n",
        "df = pd.read_csv(url, error_bad_lines=False)"
      ],
      "execution_count": 12,
      "outputs": []
    },
    {
      "cell_type": "code",
      "metadata": {
        "id": "8yn6e34hrWuA",
        "colab_type": "code",
        "colab": {
          "base_uri": "https://localhost:8080/",
          "height": 546
        },
        "outputId": "c031fbab-4c4a-4b52-a219-d0ddfa6718a3"
      },
      "source": [
        "df.head(15)"
      ],
      "execution_count": 33,
      "outputs": [
        {
          "output_type": "execute_result",
          "data": {
            "text/html": [
              "<div>\n",
              "<style scoped>\n",
              "    .dataframe tbody tr th:only-of-type {\n",
              "        vertical-align: middle;\n",
              "    }\n",
              "\n",
              "    .dataframe tbody tr th {\n",
              "        vertical-align: top;\n",
              "    }\n",
              "\n",
              "    .dataframe thead th {\n",
              "        text-align: right;\n",
              "    }\n",
              "</style>\n",
              "<table border=\"1\" class=\"dataframe\">\n",
              "  <thead>\n",
              "    <tr style=\"text-align: right;\">\n",
              "      <th></th>\n",
              "      <th>record_id</th>\n",
              "      <th>utility_id_ferc1</th>\n",
              "      <th>report_year</th>\n",
              "      <th>plant_name_ferc1</th>\n",
              "      <th>fuel_type_code_pudl</th>\n",
              "      <th>fuel_unit</th>\n",
              "      <th>fuel_qty_burned</th>\n",
              "      <th>fuel_mmbtu_per_unit</th>\n",
              "      <th>fuel_cost_per_unit_burned</th>\n",
              "      <th>fuel_cost_per_unit_delivered</th>\n",
              "      <th>fuel_cost_per_mmbtu</th>\n",
              "    </tr>\n",
              "  </thead>\n",
              "  <tbody>\n",
              "    <tr>\n",
              "      <th>0</th>\n",
              "      <td>f1_fuel_1994_12_1_0_7</td>\n",
              "      <td>1</td>\n",
              "      <td>1994</td>\n",
              "      <td>rockport</td>\n",
              "      <td>coal</td>\n",
              "      <td>ton</td>\n",
              "      <td>5377489.0</td>\n",
              "      <td>16.590000</td>\n",
              "      <td>18.590</td>\n",
              "      <td>18.530</td>\n",
              "      <td>1.121</td>\n",
              "    </tr>\n",
              "    <tr>\n",
              "      <th>1</th>\n",
              "      <td>f1_fuel_1994_12_1_0_10</td>\n",
              "      <td>1</td>\n",
              "      <td>1994</td>\n",
              "      <td>rockport total plant</td>\n",
              "      <td>coal</td>\n",
              "      <td>ton</td>\n",
              "      <td>10486945.0</td>\n",
              "      <td>16.592000</td>\n",
              "      <td>18.580</td>\n",
              "      <td>18.530</td>\n",
              "      <td>1.120</td>\n",
              "    </tr>\n",
              "    <tr>\n",
              "      <th>2</th>\n",
              "      <td>f1_fuel_1994_12_2_0_1</td>\n",
              "      <td>2</td>\n",
              "      <td>1994</td>\n",
              "      <td>gorgas</td>\n",
              "      <td>coal</td>\n",
              "      <td>ton</td>\n",
              "      <td>2978683.0</td>\n",
              "      <td>24.130000</td>\n",
              "      <td>39.720</td>\n",
              "      <td>38.120</td>\n",
              "      <td>1.650</td>\n",
              "    </tr>\n",
              "    <tr>\n",
              "      <th>3</th>\n",
              "      <td>f1_fuel_1994_12_2_0_7</td>\n",
              "      <td>2</td>\n",
              "      <td>1994</td>\n",
              "      <td>barry</td>\n",
              "      <td>coal</td>\n",
              "      <td>ton</td>\n",
              "      <td>3739484.0</td>\n",
              "      <td>23.950000</td>\n",
              "      <td>47.210</td>\n",
              "      <td>45.990</td>\n",
              "      <td>1.970</td>\n",
              "    </tr>\n",
              "    <tr>\n",
              "      <th>4</th>\n",
              "      <td>f1_fuel_1994_12_2_0_10</td>\n",
              "      <td>2</td>\n",
              "      <td>1994</td>\n",
              "      <td>chickasaw</td>\n",
              "      <td>gas</td>\n",
              "      <td>mcf</td>\n",
              "      <td>40533.0</td>\n",
              "      <td>1.000000</td>\n",
              "      <td>2.770</td>\n",
              "      <td>2.770</td>\n",
              "      <td>2.570</td>\n",
              "    </tr>\n",
              "    <tr>\n",
              "      <th>5</th>\n",
              "      <td>f1_fuel_1994_12_2_0_13</td>\n",
              "      <td>2</td>\n",
              "      <td>1994</td>\n",
              "      <td>e. c. gaston-unit 5</td>\n",
              "      <td>coal</td>\n",
              "      <td>ton</td>\n",
              "      <td>2124933.0</td>\n",
              "      <td>23.922000</td>\n",
              "      <td>44.240</td>\n",
              "      <td>43.250</td>\n",
              "      <td>1.850</td>\n",
              "    </tr>\n",
              "    <tr>\n",
              "      <th>6</th>\n",
              "      <td>f1_fuel_1994_12_2_1_1</td>\n",
              "      <td>2</td>\n",
              "      <td>1994</td>\n",
              "      <td>joseph m. farley</td>\n",
              "      <td>nuclear</td>\n",
              "      <td>kgU</td>\n",
              "      <td>2260.0</td>\n",
              "      <td>0.064094</td>\n",
              "      <td>28.770</td>\n",
              "      <td>0.000</td>\n",
              "      <td>0.450</td>\n",
              "    </tr>\n",
              "    <tr>\n",
              "      <th>7</th>\n",
              "      <td>f1_fuel_1994_12_2_1_10</td>\n",
              "      <td>2</td>\n",
              "      <td>1994</td>\n",
              "      <td>resondent's portion</td>\n",
              "      <td>coal</td>\n",
              "      <td>ton</td>\n",
              "      <td>5372133.0</td>\n",
              "      <td>24.840000</td>\n",
              "      <td>58.540</td>\n",
              "      <td>55.130</td>\n",
              "      <td>2.360</td>\n",
              "    </tr>\n",
              "    <tr>\n",
              "      <th>8</th>\n",
              "      <td>f1_fuel_1994_12_2_2_10</td>\n",
              "      <td>2</td>\n",
              "      <td>1994</td>\n",
              "      <td>respondent's portion</td>\n",
              "      <td>coal</td>\n",
              "      <td>ton</td>\n",
              "      <td>817520.0</td>\n",
              "      <td>24.290000</td>\n",
              "      <td>33.970</td>\n",
              "      <td>34.650</td>\n",
              "      <td>1.400</td>\n",
              "    </tr>\n",
              "    <tr>\n",
              "      <th>9</th>\n",
              "      <td>f1_fuel_1994_12_4_0_1</td>\n",
              "      <td>4</td>\n",
              "      <td>1994</td>\n",
              "      <td>units 1-3</td>\n",
              "      <td>coal</td>\n",
              "      <td>ton</td>\n",
              "      <td>1471233.0</td>\n",
              "      <td>22.484000</td>\n",
              "      <td>28.730</td>\n",
              "      <td>28.110</td>\n",
              "      <td>1.278</td>\n",
              "    </tr>\n",
              "    <tr>\n",
              "      <th>10</th>\n",
              "      <td>f1_fuel_1994_12_4_0_2</td>\n",
              "      <td>4</td>\n",
              "      <td>1994</td>\n",
              "      <td>units 1-3</td>\n",
              "      <td>gas</td>\n",
              "      <td>mcf</td>\n",
              "      <td>262720.0</td>\n",
              "      <td>1.026000</td>\n",
              "      <td>1.940</td>\n",
              "      <td>1.940</td>\n",
              "      <td>13.900</td>\n",
              "    </tr>\n",
              "    <tr>\n",
              "      <th>11</th>\n",
              "      <td>f1_fuel_1994_12_4_0_4</td>\n",
              "      <td>4</td>\n",
              "      <td>1994</td>\n",
              "      <td>unit 4</td>\n",
              "      <td>coal</td>\n",
              "      <td>ton</td>\n",
              "      <td>476779.0</td>\n",
              "      <td>22.428000</td>\n",
              "      <td>28.710</td>\n",
              "      <td>28.110</td>\n",
              "      <td>1.280</td>\n",
              "    </tr>\n",
              "    <tr>\n",
              "      <th>12</th>\n",
              "      <td>f1_fuel_1994_12_4_0_5</td>\n",
              "      <td>4</td>\n",
              "      <td>1994</td>\n",
              "      <td>unit 4</td>\n",
              "      <td>gas</td>\n",
              "      <td>mcf</td>\n",
              "      <td>6673.0</td>\n",
              "      <td>1.026000</td>\n",
              "      <td>1.940</td>\n",
              "      <td>1.940</td>\n",
              "      <td>1.900</td>\n",
              "    </tr>\n",
              "    <tr>\n",
              "      <th>13</th>\n",
              "      <td>f1_fuel_1994_12_6_0_1</td>\n",
              "      <td>6</td>\n",
              "      <td>1994</td>\n",
              "      <td>clinch river</td>\n",
              "      <td>coal</td>\n",
              "      <td>ton</td>\n",
              "      <td>1655558.0</td>\n",
              "      <td>25.038000</td>\n",
              "      <td>30.248</td>\n",
              "      <td>29.019</td>\n",
              "      <td>1.208</td>\n",
              "    </tr>\n",
              "    <tr>\n",
              "      <th>14</th>\n",
              "      <td>f1_fuel_1994_12_6_0_2</td>\n",
              "      <td>6</td>\n",
              "      <td>1994</td>\n",
              "      <td>clinch river</td>\n",
              "      <td>oil</td>\n",
              "      <td>bbl</td>\n",
              "      <td>6510.0</td>\n",
              "      <td>5.875338</td>\n",
              "      <td>32.130</td>\n",
              "      <td>23.444</td>\n",
              "      <td>5.469</td>\n",
              "    </tr>\n",
              "  </tbody>\n",
              "</table>\n",
              "</div>"
            ],
            "text/plain": [
              "                 record_id  utility_id_ferc1  report_year  \\\n",
              "0    f1_fuel_1994_12_1_0_7                 1         1994   \n",
              "1   f1_fuel_1994_12_1_0_10                 1         1994   \n",
              "2    f1_fuel_1994_12_2_0_1                 2         1994   \n",
              "3    f1_fuel_1994_12_2_0_7                 2         1994   \n",
              "4   f1_fuel_1994_12_2_0_10                 2         1994   \n",
              "5   f1_fuel_1994_12_2_0_13                 2         1994   \n",
              "6    f1_fuel_1994_12_2_1_1                 2         1994   \n",
              "7   f1_fuel_1994_12_2_1_10                 2         1994   \n",
              "8   f1_fuel_1994_12_2_2_10                 2         1994   \n",
              "9    f1_fuel_1994_12_4_0_1                 4         1994   \n",
              "10   f1_fuel_1994_12_4_0_2                 4         1994   \n",
              "11   f1_fuel_1994_12_4_0_4                 4         1994   \n",
              "12   f1_fuel_1994_12_4_0_5                 4         1994   \n",
              "13   f1_fuel_1994_12_6_0_1                 6         1994   \n",
              "14   f1_fuel_1994_12_6_0_2                 6         1994   \n",
              "\n",
              "        plant_name_ferc1 fuel_type_code_pudl fuel_unit  fuel_qty_burned  \\\n",
              "0               rockport                coal       ton        5377489.0   \n",
              "1   rockport total plant                coal       ton       10486945.0   \n",
              "2                 gorgas                coal       ton        2978683.0   \n",
              "3                  barry                coal       ton        3739484.0   \n",
              "4              chickasaw                 gas       mcf          40533.0   \n",
              "5    e. c. gaston-unit 5                coal       ton        2124933.0   \n",
              "6       joseph m. farley             nuclear       kgU           2260.0   \n",
              "7    resondent's portion                coal       ton        5372133.0   \n",
              "8   respondent's portion                coal       ton         817520.0   \n",
              "9              units 1-3                coal       ton        1471233.0   \n",
              "10             units 1-3                 gas       mcf         262720.0   \n",
              "11                unit 4                coal       ton         476779.0   \n",
              "12                unit 4                 gas       mcf           6673.0   \n",
              "13          clinch river                coal       ton        1655558.0   \n",
              "14          clinch river                 oil       bbl           6510.0   \n",
              "\n",
              "    fuel_mmbtu_per_unit  fuel_cost_per_unit_burned  \\\n",
              "0             16.590000                     18.590   \n",
              "1             16.592000                     18.580   \n",
              "2             24.130000                     39.720   \n",
              "3             23.950000                     47.210   \n",
              "4              1.000000                      2.770   \n",
              "5             23.922000                     44.240   \n",
              "6              0.064094                     28.770   \n",
              "7             24.840000                     58.540   \n",
              "8             24.290000                     33.970   \n",
              "9             22.484000                     28.730   \n",
              "10             1.026000                      1.940   \n",
              "11            22.428000                     28.710   \n",
              "12             1.026000                      1.940   \n",
              "13            25.038000                     30.248   \n",
              "14             5.875338                     32.130   \n",
              "\n",
              "    fuel_cost_per_unit_delivered  fuel_cost_per_mmbtu  \n",
              "0                         18.530                1.121  \n",
              "1                         18.530                1.120  \n",
              "2                         38.120                1.650  \n",
              "3                         45.990                1.970  \n",
              "4                          2.770                2.570  \n",
              "5                         43.250                1.850  \n",
              "6                          0.000                0.450  \n",
              "7                         55.130                2.360  \n",
              "8                         34.650                1.400  \n",
              "9                         28.110                1.278  \n",
              "10                         1.940               13.900  \n",
              "11                        28.110                1.280  \n",
              "12                         1.940                1.900  \n",
              "13                        29.019                1.208  \n",
              "14                        23.444                5.469  "
            ]
          },
          "metadata": {
            "tags": []
          },
          "execution_count": 33
        }
      ]
    },
    {
      "cell_type": "code",
      "metadata": {
        "id": "p4Y-qF5Isl99",
        "colab_type": "code",
        "colab": {
          "base_uri": "https://localhost:8080/",
          "height": 35
        },
        "outputId": "b2e9ea63-6a59-43f0-a993-0a67134d6be0"
      },
      "source": [
        "A = [1,2,3,4,5,6]\n",
        "B = [13, 21, 34]\n",
        "\n",
        "A.extend(B)\n",
        "print(A)"
      ],
      "execution_count": 9,
      "outputs": [
        {
          "output_type": "stream",
          "text": [
            "[1, 2, 3, 4, 5, 6, 13, 21, 34]\n"
          ],
          "name": "stdout"
        }
      ]
    },
    {
      "cell_type": "code",
      "metadata": {
        "id": "TIUL6546tIEA",
        "colab_type": "code",
        "colab": {
          "base_uri": "https://localhost:8080/",
          "height": 69
        },
        "outputId": "516c5df0-7b0f-41fc-cbe9-6c4aae0ec1d5"
      },
      "source": [
        "np.identity(3)"
      ],
      "execution_count": 10,
      "outputs": [
        {
          "output_type": "execute_result",
          "data": {
            "text/plain": [
              "array([[1., 0., 0.],\n",
              "       [0., 1., 0.],\n",
              "       [0., 0., 1.]])"
            ]
          },
          "metadata": {
            "tags": []
          },
          "execution_count": 10
        }
      ]
    },
    {
      "cell_type": "code",
      "metadata": {
        "id": "uDy6KfmOwh2E",
        "colab_type": "code",
        "colab": {
          "base_uri": "https://localhost:8080/",
          "height": 314
        },
        "outputId": "a4fc05a8-253f-4605-8b6f-f1c62aec8810"
      },
      "source": [
        "df.describe()"
      ],
      "execution_count": 24,
      "outputs": [
        {
          "output_type": "execute_result",
          "data": {
            "text/html": [
              "<div>\n",
              "<style scoped>\n",
              "    .dataframe tbody tr th:only-of-type {\n",
              "        vertical-align: middle;\n",
              "    }\n",
              "\n",
              "    .dataframe tbody tr th {\n",
              "        vertical-align: top;\n",
              "    }\n",
              "\n",
              "    .dataframe thead th {\n",
              "        text-align: right;\n",
              "    }\n",
              "</style>\n",
              "<table border=\"1\" class=\"dataframe\">\n",
              "  <thead>\n",
              "    <tr style=\"text-align: right;\">\n",
              "      <th></th>\n",
              "      <th>utility_id_ferc1</th>\n",
              "      <th>report_year</th>\n",
              "      <th>fuel_qty_burned</th>\n",
              "      <th>fuel_mmbtu_per_unit</th>\n",
              "      <th>fuel_cost_per_unit_burned</th>\n",
              "      <th>fuel_cost_per_unit_delivered</th>\n",
              "      <th>fuel_cost_per_mmbtu</th>\n",
              "    </tr>\n",
              "  </thead>\n",
              "  <tbody>\n",
              "    <tr>\n",
              "      <th>count</th>\n",
              "      <td>29523.000000</td>\n",
              "      <td>29523.000000</td>\n",
              "      <td>2.952300e+04</td>\n",
              "      <td>29523.000000</td>\n",
              "      <td>29523.000000</td>\n",
              "      <td>2.952300e+04</td>\n",
              "      <td>29523.000000</td>\n",
              "    </tr>\n",
              "    <tr>\n",
              "      <th>mean</th>\n",
              "      <td>118.601836</td>\n",
              "      <td>2005.806050</td>\n",
              "      <td>2.622119e+06</td>\n",
              "      <td>8.492111</td>\n",
              "      <td>208.649031</td>\n",
              "      <td>9.175704e+02</td>\n",
              "      <td>19.304354</td>\n",
              "    </tr>\n",
              "    <tr>\n",
              "      <th>std</th>\n",
              "      <td>74.178353</td>\n",
              "      <td>7.025483</td>\n",
              "      <td>9.118004e+06</td>\n",
              "      <td>10.600220</td>\n",
              "      <td>2854.490090</td>\n",
              "      <td>6.877593e+04</td>\n",
              "      <td>2091.540939</td>\n",
              "    </tr>\n",
              "    <tr>\n",
              "      <th>min</th>\n",
              "      <td>1.000000</td>\n",
              "      <td>1994.000000</td>\n",
              "      <td>1.000000e+00</td>\n",
              "      <td>0.000001</td>\n",
              "      <td>-276.080000</td>\n",
              "      <td>-8.749370e+02</td>\n",
              "      <td>-41.501000</td>\n",
              "    </tr>\n",
              "    <tr>\n",
              "      <th>25%</th>\n",
              "      <td>55.000000</td>\n",
              "      <td>2000.000000</td>\n",
              "      <td>1.381700e+04</td>\n",
              "      <td>1.024000</td>\n",
              "      <td>5.207000</td>\n",
              "      <td>3.778500e+00</td>\n",
              "      <td>1.940000</td>\n",
              "    </tr>\n",
              "    <tr>\n",
              "      <th>50%</th>\n",
              "      <td>122.000000</td>\n",
              "      <td>2006.000000</td>\n",
              "      <td>2.533220e+05</td>\n",
              "      <td>5.762694</td>\n",
              "      <td>26.000000</td>\n",
              "      <td>1.737100e+01</td>\n",
              "      <td>4.127000</td>\n",
              "    </tr>\n",
              "    <tr>\n",
              "      <th>75%</th>\n",
              "      <td>176.000000</td>\n",
              "      <td>2012.000000</td>\n",
              "      <td>1.424034e+06</td>\n",
              "      <td>17.006000</td>\n",
              "      <td>47.113000</td>\n",
              "      <td>4.213700e+01</td>\n",
              "      <td>7.745000</td>\n",
              "    </tr>\n",
              "    <tr>\n",
              "      <th>max</th>\n",
              "      <td>514.000000</td>\n",
              "      <td>2018.000000</td>\n",
              "      <td>5.558942e+08</td>\n",
              "      <td>341.260000</td>\n",
              "      <td>139358.000000</td>\n",
              "      <td>7.964521e+06</td>\n",
              "      <td>359278.000000</td>\n",
              "    </tr>\n",
              "  </tbody>\n",
              "</table>\n",
              "</div>"
            ],
            "text/plain": [
              "       utility_id_ferc1  ...  fuel_cost_per_mmbtu\n",
              "count      29523.000000  ...         29523.000000\n",
              "mean         118.601836  ...            19.304354\n",
              "std           74.178353  ...          2091.540939\n",
              "min            1.000000  ...           -41.501000\n",
              "25%           55.000000  ...             1.940000\n",
              "50%          122.000000  ...             4.127000\n",
              "75%          176.000000  ...             7.745000\n",
              "max          514.000000  ...        359278.000000\n",
              "\n",
              "[8 rows x 7 columns]"
            ]
          },
          "metadata": {
            "tags": []
          },
          "execution_count": 24
        }
      ]
    },
    {
      "cell_type": "code",
      "metadata": {
        "id": "V6cLJxestMVE",
        "colab_type": "code",
        "colab": {
          "base_uri": "https://localhost:8080/",
          "height": 35
        },
        "outputId": "8521f915-9d80-431d-b780-965f5122e618"
      },
      "source": [
        "df['fuel_cost_per_unit_burned'].mean()"
      ],
      "execution_count": 16,
      "outputs": [
        {
          "output_type": "execute_result",
          "data": {
            "text/plain": [
              "208.64903102665716"
            ]
          },
          "metadata": {
            "tags": []
          },
          "execution_count": 16
        }
      ]
    },
    {
      "cell_type": "code",
      "metadata": {
        "id": "-IdrtsKYvihl",
        "colab_type": "code",
        "colab": {}
      },
      "source": [
        "# standard deviation of the measure of energy per unit (fuel_mmbtu_per_unit)\n",
        "\n",
        "df['fuel_mmbtu_per_unit'].std()"
      ],
      "execution_count": null,
      "outputs": []
    },
    {
      "cell_type": "code",
      "metadata": {
        "id": "gdE5MQvutTBb",
        "colab_type": "code",
        "colab": {
          "base_uri": "https://localhost:8080/",
          "height": 35
        },
        "outputId": "fd14cf52-3afb-4b94-fb73-37f15ca6be1e"
      },
      "source": [
        "# 75th percentile of the measure of energy per unit (Fuel_mmbtu_per_unit)\n",
        "\n",
        "df['fuel_mmbtu_per_unit'].quantile(0.75)"
      ],
      "execution_count": 21,
      "outputs": [
        {
          "output_type": "execute_result",
          "data": {
            "text/plain": [
              "17.006"
            ]
          },
          "metadata": {
            "tags": []
          },
          "execution_count": 21
        }
      ]
    },
    {
      "cell_type": "code",
      "metadata": {
        "id": "t77COFQSu7eq",
        "colab_type": "code",
        "colab": {
          "base_uri": "https://localhost:8080/",
          "height": 35
        },
        "outputId": "111c682d-162c-4c35-b4db-d4d401d61bd0"
      },
      "source": [
        "# skewness for the fuel quantity burned\n",
        "\n",
        "df['fuel_qty_burned'].skew()"
      ],
      "execution_count": 23,
      "outputs": [
        {
          "output_type": "execute_result",
          "data": {
            "text/plain": [
              "15.851495469109503"
            ]
          },
          "metadata": {
            "tags": []
          },
          "execution_count": 23
        }
      ]
    },
    {
      "cell_type": "code",
      "metadata": {
        "id": "o2_v-22zwMy4",
        "colab_type": "code",
        "colab": {
          "base_uri": "https://localhost:8080/",
          "height": 35
        },
        "outputId": "6b4b10b0-537d-4b0f-928b-36f5dc9790e0"
      },
      "source": [
        "# kurtosis for the fuel quantity burned\n",
        "\n",
        "df['fuel_qty_burned'].kurtosis()"
      ],
      "execution_count": 25,
      "outputs": [
        {
          "output_type": "execute_result",
          "data": {
            "text/plain": [
              "651.3694501337732"
            ]
          },
          "metadata": {
            "tags": []
          },
          "execution_count": 25
        }
      ]
    },
    {
      "cell_type": "code",
      "metadata": {
        "id": "oI0Tc77txhKw",
        "colab_type": "code",
        "colab": {
          "base_uri": "https://localhost:8080/",
          "height": 225
        },
        "outputId": "0a457c16-e647-4beb-8a16-e0a90beac989"
      },
      "source": [
        "df.isnull().sum()"
      ],
      "execution_count": 32,
      "outputs": [
        {
          "output_type": "execute_result",
          "data": {
            "text/plain": [
              "record_id                         0\n",
              "utility_id_ferc1                  0\n",
              "report_year                       0\n",
              "plant_name_ferc1                  0\n",
              "fuel_type_code_pudl               0\n",
              "fuel_unit                       180\n",
              "fuel_qty_burned                   0\n",
              "fuel_mmbtu_per_unit               0\n",
              "fuel_cost_per_unit_burned         0\n",
              "fuel_cost_per_unit_delivered      0\n",
              "fuel_cost_per_mmbtu               0\n",
              "dtype: int64"
            ]
          },
          "metadata": {
            "tags": []
          },
          "execution_count": 32
        }
      ]
    },
    {
      "cell_type": "code",
      "metadata": {
        "id": "EwaD9YH_zk7f",
        "colab_type": "code",
        "colab": {
          "base_uri": "https://localhost:8080/",
          "height": 329
        },
        "outputId": "df00142d-2279-404b-a2f6-e71a887f5110"
      },
      "source": [
        "df.info()"
      ],
      "execution_count": 34,
      "outputs": [
        {
          "output_type": "stream",
          "text": [
            "<class 'pandas.core.frame.DataFrame'>\n",
            "RangeIndex: 29523 entries, 0 to 29522\n",
            "Data columns (total 11 columns):\n",
            " #   Column                        Non-Null Count  Dtype  \n",
            "---  ------                        --------------  -----  \n",
            " 0   record_id                     29523 non-null  object \n",
            " 1   utility_id_ferc1              29523 non-null  int64  \n",
            " 2   report_year                   29523 non-null  int64  \n",
            " 3   plant_name_ferc1              29523 non-null  object \n",
            " 4   fuel_type_code_pudl           29523 non-null  object \n",
            " 5   fuel_unit                     29343 non-null  object \n",
            " 6   fuel_qty_burned               29523 non-null  float64\n",
            " 7   fuel_mmbtu_per_unit           29523 non-null  float64\n",
            " 8   fuel_cost_per_unit_burned     29523 non-null  float64\n",
            " 9   fuel_cost_per_unit_delivered  29523 non-null  float64\n",
            " 10  fuel_cost_per_mmbtu           29523 non-null  float64\n",
            "dtypes: float64(5), int64(2), object(4)\n",
            "memory usage: 2.5+ MB\n"
          ],
          "name": "stdout"
        }
      ]
    },
    {
      "cell_type": "code",
      "metadata": {
        "id": "bXpzwsqD0ara",
        "colab_type": "code",
        "colab": {
          "base_uri": "https://localhost:8080/",
          "height": 52
        },
        "outputId": "63dd8cb4-d739-4df6-a022-416d4f1fd8d1"
      },
      "source": [
        "count_row = df.shape[0]  # gives number of row count\n",
        "print(count_row)\n",
        "\n",
        "empty_row = df['fuel_unit'].isnull().sum()  #gives count empty fuel_unit rows\n",
        "print(empty_row)"
      ],
      "execution_count": 66,
      "outputs": [
        {
          "output_type": "stream",
          "text": [
            "29523\n",
            "180\n"
          ],
          "name": "stdout"
        }
      ]
    },
    {
      "cell_type": "code",
      "metadata": {
        "id": "i7WuRvwJ0kC-",
        "colab_type": "code",
        "colab": {
          "base_uri": "https://localhost:8080/",
          "height": 35
        },
        "outputId": "65bb495a-313d-4ac0-f2f1-f1b7bb6ccad9"
      },
      "source": [
        "percentage = (empty_row/count_row) * 100\n",
        "print(percentage)"
      ],
      "execution_count": 46,
      "outputs": [
        {
          "output_type": "stream",
          "text": [
            "0.609694136774718\n"
          ],
          "name": "stdout"
        }
      ]
    },
    {
      "cell_type": "code",
      "metadata": {
        "id": "GSacZLtz2eq0",
        "colab_type": "code",
        "colab": {
          "base_uri": "https://localhost:8080/",
          "height": 283
        },
        "outputId": "1f80b59e-8fc6-40e4-c3f3-560ce3f6280b"
      },
      "source": [
        "df1 = df.corr(method ='kendall')\n",
        "df1"
      ],
      "execution_count": 52,
      "outputs": [
        {
          "output_type": "execute_result",
          "data": {
            "text/html": [
              "<div>\n",
              "<style scoped>\n",
              "    .dataframe tbody tr th:only-of-type {\n",
              "        vertical-align: middle;\n",
              "    }\n",
              "\n",
              "    .dataframe tbody tr th {\n",
              "        vertical-align: top;\n",
              "    }\n",
              "\n",
              "    .dataframe thead th {\n",
              "        text-align: right;\n",
              "    }\n",
              "</style>\n",
              "<table border=\"1\" class=\"dataframe\">\n",
              "  <thead>\n",
              "    <tr style=\"text-align: right;\">\n",
              "      <th></th>\n",
              "      <th>utility_id_ferc1</th>\n",
              "      <th>report_year</th>\n",
              "      <th>fuel_qty_burned</th>\n",
              "      <th>fuel_mmbtu_per_unit</th>\n",
              "      <th>fuel_cost_per_unit_burned</th>\n",
              "      <th>fuel_cost_per_unit_delivered</th>\n",
              "      <th>fuel_cost_per_mmbtu</th>\n",
              "    </tr>\n",
              "  </thead>\n",
              "  <tbody>\n",
              "    <tr>\n",
              "      <th>utility_id_ferc1</th>\n",
              "      <td>1.000000</td>\n",
              "      <td>0.046176</td>\n",
              "      <td>-0.034217</td>\n",
              "      <td>-0.064722</td>\n",
              "      <td>-0.049750</td>\n",
              "      <td>-0.045562</td>\n",
              "      <td>-0.011386</td>\n",
              "    </tr>\n",
              "    <tr>\n",
              "      <th>report_year</th>\n",
              "      <td>0.046176</td>\n",
              "      <td>1.000000</td>\n",
              "      <td>-0.053437</td>\n",
              "      <td>-0.030246</td>\n",
              "      <td>0.164699</td>\n",
              "      <td>0.125741</td>\n",
              "      <td>0.266284</td>\n",
              "    </tr>\n",
              "    <tr>\n",
              "      <th>fuel_qty_burned</th>\n",
              "      <td>-0.034217</td>\n",
              "      <td>-0.053437</td>\n",
              "      <td>1.000000</td>\n",
              "      <td>0.054576</td>\n",
              "      <td>-0.261359</td>\n",
              "      <td>-0.176655</td>\n",
              "      <td>-0.363151</td>\n",
              "    </tr>\n",
              "    <tr>\n",
              "      <th>fuel_mmbtu_per_unit</th>\n",
              "      <td>-0.064722</td>\n",
              "      <td>-0.030246</td>\n",
              "      <td>0.054576</td>\n",
              "      <td>1.000000</td>\n",
              "      <td>0.346381</td>\n",
              "      <td>0.307467</td>\n",
              "      <td>-0.152250</td>\n",
              "    </tr>\n",
              "    <tr>\n",
              "      <th>fuel_cost_per_unit_burned</th>\n",
              "      <td>-0.049750</td>\n",
              "      <td>0.164699</td>\n",
              "      <td>-0.261359</td>\n",
              "      <td>0.346381</td>\n",
              "      <td>1.000000</td>\n",
              "      <td>0.743975</td>\n",
              "      <td>0.321004</td>\n",
              "    </tr>\n",
              "    <tr>\n",
              "      <th>fuel_cost_per_unit_delivered</th>\n",
              "      <td>-0.045562</td>\n",
              "      <td>0.125741</td>\n",
              "      <td>-0.176655</td>\n",
              "      <td>0.307467</td>\n",
              "      <td>0.743975</td>\n",
              "      <td>1.000000</td>\n",
              "      <td>0.225250</td>\n",
              "    </tr>\n",
              "    <tr>\n",
              "      <th>fuel_cost_per_mmbtu</th>\n",
              "      <td>-0.011386</td>\n",
              "      <td>0.266284</td>\n",
              "      <td>-0.363151</td>\n",
              "      <td>-0.152250</td>\n",
              "      <td>0.321004</td>\n",
              "      <td>0.225250</td>\n",
              "      <td>1.000000</td>\n",
              "    </tr>\n",
              "  </tbody>\n",
              "</table>\n",
              "</div>"
            ],
            "text/plain": [
              "                              utility_id_ferc1  report_year  fuel_qty_burned  \\\n",
              "utility_id_ferc1                      1.000000     0.046176        -0.034217   \n",
              "report_year                           0.046176     1.000000        -0.053437   \n",
              "fuel_qty_burned                      -0.034217    -0.053437         1.000000   \n",
              "fuel_mmbtu_per_unit                  -0.064722    -0.030246         0.054576   \n",
              "fuel_cost_per_unit_burned            -0.049750     0.164699        -0.261359   \n",
              "fuel_cost_per_unit_delivered         -0.045562     0.125741        -0.176655   \n",
              "fuel_cost_per_mmbtu                  -0.011386     0.266284        -0.363151   \n",
              "\n",
              "                              fuel_mmbtu_per_unit  fuel_cost_per_unit_burned  \\\n",
              "utility_id_ferc1                        -0.064722                  -0.049750   \n",
              "report_year                             -0.030246                   0.164699   \n",
              "fuel_qty_burned                          0.054576                  -0.261359   \n",
              "fuel_mmbtu_per_unit                      1.000000                   0.346381   \n",
              "fuel_cost_per_unit_burned                0.346381                   1.000000   \n",
              "fuel_cost_per_unit_delivered             0.307467                   0.743975   \n",
              "fuel_cost_per_mmbtu                     -0.152250                   0.321004   \n",
              "\n",
              "                              fuel_cost_per_unit_delivered  \\\n",
              "utility_id_ferc1                                 -0.045562   \n",
              "report_year                                       0.125741   \n",
              "fuel_qty_burned                                  -0.176655   \n",
              "fuel_mmbtu_per_unit                               0.307467   \n",
              "fuel_cost_per_unit_burned                         0.743975   \n",
              "fuel_cost_per_unit_delivered                      1.000000   \n",
              "fuel_cost_per_mmbtu                               0.225250   \n",
              "\n",
              "                              fuel_cost_per_mmbtu  \n",
              "utility_id_ferc1                        -0.011386  \n",
              "report_year                              0.266284  \n",
              "fuel_qty_burned                         -0.363151  \n",
              "fuel_mmbtu_per_unit                     -0.152250  \n",
              "fuel_cost_per_unit_burned                0.321004  \n",
              "fuel_cost_per_unit_delivered             0.225250  \n",
              "fuel_cost_per_mmbtu                      1.000000  "
            ]
          },
          "metadata": {
            "tags": []
          },
          "execution_count": 52
        }
      ]
    },
    {
      "cell_type": "code",
      "metadata": {
        "id": "gfIbYtVo2hGh",
        "colab_type": "code",
        "colab": {
          "base_uri": "https://localhost:8080/",
          "height": 222
        },
        "outputId": "606b6074-472e-477c-941e-c81f0c975808"
      },
      "source": [
        "df.head()"
      ],
      "execution_count": 55,
      "outputs": [
        {
          "output_type": "execute_result",
          "data": {
            "text/html": [
              "<div>\n",
              "<style scoped>\n",
              "    .dataframe tbody tr th:only-of-type {\n",
              "        vertical-align: middle;\n",
              "    }\n",
              "\n",
              "    .dataframe tbody tr th {\n",
              "        vertical-align: top;\n",
              "    }\n",
              "\n",
              "    .dataframe thead th {\n",
              "        text-align: right;\n",
              "    }\n",
              "</style>\n",
              "<table border=\"1\" class=\"dataframe\">\n",
              "  <thead>\n",
              "    <tr style=\"text-align: right;\">\n",
              "      <th></th>\n",
              "      <th>record_id</th>\n",
              "      <th>utility_id_ferc1</th>\n",
              "      <th>report_year</th>\n",
              "      <th>plant_name_ferc1</th>\n",
              "      <th>fuel_type_code_pudl</th>\n",
              "      <th>fuel_unit</th>\n",
              "      <th>fuel_qty_burned</th>\n",
              "      <th>fuel_mmbtu_per_unit</th>\n",
              "      <th>fuel_cost_per_unit_burned</th>\n",
              "      <th>fuel_cost_per_unit_delivered</th>\n",
              "      <th>fuel_cost_per_mmbtu</th>\n",
              "    </tr>\n",
              "  </thead>\n",
              "  <tbody>\n",
              "    <tr>\n",
              "      <th>0</th>\n",
              "      <td>f1_fuel_1994_12_1_0_7</td>\n",
              "      <td>1</td>\n",
              "      <td>1994</td>\n",
              "      <td>rockport</td>\n",
              "      <td>coal</td>\n",
              "      <td>ton</td>\n",
              "      <td>5377489.0</td>\n",
              "      <td>16.590</td>\n",
              "      <td>18.59</td>\n",
              "      <td>18.53</td>\n",
              "      <td>1.121</td>\n",
              "    </tr>\n",
              "    <tr>\n",
              "      <th>1</th>\n",
              "      <td>f1_fuel_1994_12_1_0_10</td>\n",
              "      <td>1</td>\n",
              "      <td>1994</td>\n",
              "      <td>rockport total plant</td>\n",
              "      <td>coal</td>\n",
              "      <td>ton</td>\n",
              "      <td>10486945.0</td>\n",
              "      <td>16.592</td>\n",
              "      <td>18.58</td>\n",
              "      <td>18.53</td>\n",
              "      <td>1.120</td>\n",
              "    </tr>\n",
              "    <tr>\n",
              "      <th>2</th>\n",
              "      <td>f1_fuel_1994_12_2_0_1</td>\n",
              "      <td>2</td>\n",
              "      <td>1994</td>\n",
              "      <td>gorgas</td>\n",
              "      <td>coal</td>\n",
              "      <td>ton</td>\n",
              "      <td>2978683.0</td>\n",
              "      <td>24.130</td>\n",
              "      <td>39.72</td>\n",
              "      <td>38.12</td>\n",
              "      <td>1.650</td>\n",
              "    </tr>\n",
              "    <tr>\n",
              "      <th>3</th>\n",
              "      <td>f1_fuel_1994_12_2_0_7</td>\n",
              "      <td>2</td>\n",
              "      <td>1994</td>\n",
              "      <td>barry</td>\n",
              "      <td>coal</td>\n",
              "      <td>ton</td>\n",
              "      <td>3739484.0</td>\n",
              "      <td>23.950</td>\n",
              "      <td>47.21</td>\n",
              "      <td>45.99</td>\n",
              "      <td>1.970</td>\n",
              "    </tr>\n",
              "    <tr>\n",
              "      <th>4</th>\n",
              "      <td>f1_fuel_1994_12_2_0_10</td>\n",
              "      <td>2</td>\n",
              "      <td>1994</td>\n",
              "      <td>chickasaw</td>\n",
              "      <td>gas</td>\n",
              "      <td>mcf</td>\n",
              "      <td>40533.0</td>\n",
              "      <td>1.000</td>\n",
              "      <td>2.77</td>\n",
              "      <td>2.77</td>\n",
              "      <td>2.570</td>\n",
              "    </tr>\n",
              "  </tbody>\n",
              "</table>\n",
              "</div>"
            ],
            "text/plain": [
              "                record_id  utility_id_ferc1  report_year  \\\n",
              "0   f1_fuel_1994_12_1_0_7                 1         1994   \n",
              "1  f1_fuel_1994_12_1_0_10                 1         1994   \n",
              "2   f1_fuel_1994_12_2_0_1                 2         1994   \n",
              "3   f1_fuel_1994_12_2_0_7                 2         1994   \n",
              "4  f1_fuel_1994_12_2_0_10                 2         1994   \n",
              "\n",
              "       plant_name_ferc1 fuel_type_code_pudl fuel_unit  fuel_qty_burned  \\\n",
              "0              rockport                coal       ton        5377489.0   \n",
              "1  rockport total plant                coal       ton       10486945.0   \n",
              "2                gorgas                coal       ton        2978683.0   \n",
              "3                 barry                coal       ton        3739484.0   \n",
              "4             chickasaw                 gas       mcf          40533.0   \n",
              "\n",
              "   fuel_mmbtu_per_unit  fuel_cost_per_unit_burned  \\\n",
              "0               16.590                      18.59   \n",
              "1               16.592                      18.58   \n",
              "2               24.130                      39.72   \n",
              "3               23.950                      47.21   \n",
              "4                1.000                       2.77   \n",
              "\n",
              "   fuel_cost_per_unit_delivered  fuel_cost_per_mmbtu  \n",
              "0                         18.53                1.121  \n",
              "1                         18.53                1.120  \n",
              "2                         38.12                1.650  \n",
              "3                         45.99                1.970  \n",
              "4                          2.77                2.570  "
            ]
          },
          "metadata": {
            "tags": []
          },
          "execution_count": 55
        }
      ]
    },
    {
      "cell_type": "code",
      "metadata": {
        "id": "3bhZe3xm4Yvl",
        "colab_type": "code",
        "colab": {}
      },
      "source": [
        "df['fuel_cost_per_unit_burned'].unique"
      ],
      "execution_count": null,
      "outputs": []
    },
    {
      "cell_type": "code",
      "metadata": {
        "id": "h4zTkh7S53M_",
        "colab_type": "code",
        "colab": {}
      },
      "source": [
        ""
      ],
      "execution_count": null,
      "outputs": []
    },
    {
      "cell_type": "markdown",
      "metadata": {
        "id": "w3OJTV9XqS29",
        "colab_type": "text"
      },
      "source": [
        "## Hamoye to the World!!!"
      ]
    }
  ]
}